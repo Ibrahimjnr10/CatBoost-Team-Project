{
 "cells": [
  {
   "cell_type": "code",
   "execution_count": 1,
   "id": "cb0e7fa6",
   "metadata": {},
   "outputs": [],
   "source": [
    "import pandas as pd\n",
    "import datetime as dt"
   ]
  },
  {
   "cell_type": "code",
   "execution_count": 2,
   "id": "a212195c",
   "metadata": {},
   "outputs": [],
   "source": [
    "# Loading the remiitacne data\n",
    "df1 = pd.read_csv(r\"C:\\Users\\chine\\Downloads\\Cleaned Data\\Cleaned Data\\Remittance Merged 1970 - 2022( without metadata).csv\")"
   ]
  },
  {
   "cell_type": "code",
   "execution_count": 3,
   "id": "da83878a",
   "metadata": {},
   "outputs": [],
   "source": [
    "# Loading the MetaData\n",
    "df2 = pd.read_csv(r\"C:\\Users\\chine\\Downloads\\Cleaned Data\\Cleaned Data\\MetaData.csv\", encoding =\"latin-1\")"
   ]
  },
  {
   "cell_type": "code",
   "execution_count": 4,
   "id": "e7588133",
   "metadata": {},
   "outputs": [
    {
     "data": {
      "text/plain": [
       "country_name           0\n",
       "country_code           0\n",
       "Year                   0\n",
       "remittance_received    0\n",
       "remittance_paid        0\n",
       "gdp                    0\n",
       "unemployment_rate      0\n",
       "dtype: int64"
      ]
     },
     "execution_count": 4,
     "metadata": {},
     "output_type": "execute_result"
    }
   ],
   "source": [
    "# checking for null values in the remittance data\n",
    "df1.isna().sum()"
   ]
  },
  {
   "cell_type": "code",
   "execution_count": 5,
   "id": "f1572405",
   "metadata": {},
   "outputs": [
    {
     "data": {
      "text/plain": [
       "country_name      0\n",
       "Country Code      0\n",
       "Region            0\n",
       "IncomeGroup       0\n",
       "SpecialNotes    128\n",
       "dtype: int64"
      ]
     },
     "execution_count": 5,
     "metadata": {},
     "output_type": "execute_result"
    }
   ],
   "source": [
    "# checking for null values in the metadata\n",
    "df2.isna().sum()"
   ]
  },
  {
   "cell_type": "code",
   "execution_count": 7,
   "id": "9aaa58d0",
   "metadata": {},
   "outputs": [],
   "source": [
    "# handling  the null values in the metadata\n",
    "df2['SpecialNotes'].fillna(\"None\", inplace = True)"
   ]
  },
  {
   "cell_type": "code",
   "execution_count": 8,
   "id": "79327f8e",
   "metadata": {},
   "outputs": [
    {
     "data": {
      "text/plain": [
       "country_name    0\n",
       "Country Code    0\n",
       "Region          0\n",
       "IncomeGroup     0\n",
       "SpecialNotes    0\n",
       "dtype: int64"
      ]
     },
     "execution_count": 8,
     "metadata": {},
     "output_type": "execute_result"
    }
   ],
   "source": [
    "# rechecking if the null values in the metadata has been fixed\n",
    "df2.isna().sum()"
   ]
  },
  {
   "cell_type": "code",
   "execution_count": 9,
   "id": "d4d571bc",
   "metadata": {},
   "outputs": [],
   "source": [
    "# dropping unused column\n",
    "df2 = df2.drop(\"Country Code\", axis = 1)\n",
    "df2 = df2.drop(\"SpecialNotes\", axis = 1)"
   ]
  },
  {
   "cell_type": "code",
   "execution_count": 13,
   "id": "8d28a846",
   "metadata": {},
   "outputs": [],
   "source": [
    "# joining the two remittance and metadata\n",
    "complete_data = pd.merge(df1, df2, how = \"inner\")"
   ]
  },
  {
   "cell_type": "code",
   "execution_count": 12,
   "id": "6e2a128c",
   "metadata": {
    "scrolled": false
   },
   "outputs": [
    {
     "data": {
      "text/html": [
       "<div>\n",
       "<style scoped>\n",
       "    .dataframe tbody tr th:only-of-type {\n",
       "        vertical-align: middle;\n",
       "    }\n",
       "\n",
       "    .dataframe tbody tr th {\n",
       "        vertical-align: top;\n",
       "    }\n",
       "\n",
       "    .dataframe thead th {\n",
       "        text-align: right;\n",
       "    }\n",
       "</style>\n",
       "<table border=\"1\" class=\"dataframe\">\n",
       "  <thead>\n",
       "    <tr style=\"text-align: right;\">\n",
       "      <th></th>\n",
       "      <th>country_name</th>\n",
       "      <th>country_code</th>\n",
       "      <th>Year</th>\n",
       "      <th>remittance_received</th>\n",
       "      <th>remittance_paid</th>\n",
       "      <th>gdp</th>\n",
       "      <th>unemployment_rate</th>\n",
       "      <th>Region</th>\n",
       "      <th>IncomeGroup</th>\n",
       "    </tr>\n",
       "  </thead>\n",
       "  <tbody>\n",
       "    <tr>\n",
       "      <th>0</th>\n",
       "      <td>Aruba</td>\n",
       "      <td>ABW</td>\n",
       "      <td>1970</td>\n",
       "      <td>0.000000e+00</td>\n",
       "      <td>0.00</td>\n",
       "      <td>0.000000</td>\n",
       "      <td>0.000</td>\n",
       "      <td>Latin America &amp; Caribbean</td>\n",
       "      <td>High income</td>\n",
       "    </tr>\n",
       "    <tr>\n",
       "      <th>1</th>\n",
       "      <td>Aruba</td>\n",
       "      <td>ABW</td>\n",
       "      <td>1971</td>\n",
       "      <td>0.000000e+00</td>\n",
       "      <td>0.00</td>\n",
       "      <td>0.000000</td>\n",
       "      <td>0.000</td>\n",
       "      <td>Latin America &amp; Caribbean</td>\n",
       "      <td>High income</td>\n",
       "    </tr>\n",
       "    <tr>\n",
       "      <th>2</th>\n",
       "      <td>Aruba</td>\n",
       "      <td>ABW</td>\n",
       "      <td>1972</td>\n",
       "      <td>0.000000e+00</td>\n",
       "      <td>0.00</td>\n",
       "      <td>0.000000</td>\n",
       "      <td>0.000</td>\n",
       "      <td>Latin America &amp; Caribbean</td>\n",
       "      <td>High income</td>\n",
       "    </tr>\n",
       "    <tr>\n",
       "      <th>3</th>\n",
       "      <td>Aruba</td>\n",
       "      <td>ABW</td>\n",
       "      <td>1973</td>\n",
       "      <td>0.000000e+00</td>\n",
       "      <td>0.00</td>\n",
       "      <td>0.000000</td>\n",
       "      <td>0.000</td>\n",
       "      <td>Latin America &amp; Caribbean</td>\n",
       "      <td>High income</td>\n",
       "    </tr>\n",
       "    <tr>\n",
       "      <th>4</th>\n",
       "      <td>Aruba</td>\n",
       "      <td>ABW</td>\n",
       "      <td>1974</td>\n",
       "      <td>0.000000e+00</td>\n",
       "      <td>0.00</td>\n",
       "      <td>0.000000</td>\n",
       "      <td>0.000</td>\n",
       "      <td>Latin America &amp; Caribbean</td>\n",
       "      <td>High income</td>\n",
       "    </tr>\n",
       "    <tr>\n",
       "      <th>...</th>\n",
       "      <td>...</td>\n",
       "      <td>...</td>\n",
       "      <td>...</td>\n",
       "      <td>...</td>\n",
       "      <td>...</td>\n",
       "      <td>...</td>\n",
       "      <td>...</td>\n",
       "      <td>...</td>\n",
       "      <td>...</td>\n",
       "    </tr>\n",
       "    <tr>\n",
       "      <th>11496</th>\n",
       "      <td>Zimbabwe</td>\n",
       "      <td>ZWE</td>\n",
       "      <td>2018</td>\n",
       "      <td>1.427703e+09</td>\n",
       "      <td>29278892.45</td>\n",
       "      <td>4.179939</td>\n",
       "      <td>6.784</td>\n",
       "      <td>Sub-Saharan Africa</td>\n",
       "      <td>Lower middle income</td>\n",
       "    </tr>\n",
       "    <tr>\n",
       "      <th>11497</th>\n",
       "      <td>Zimbabwe</td>\n",
       "      <td>ZWE</td>\n",
       "      <td>2019</td>\n",
       "      <td>1.417012e+09</td>\n",
       "      <td>13480565.66</td>\n",
       "      <td>6.490458</td>\n",
       "      <td>7.370</td>\n",
       "      <td>Sub-Saharan Africa</td>\n",
       "      <td>Lower middle income</td>\n",
       "    </tr>\n",
       "    <tr>\n",
       "      <th>11498</th>\n",
       "      <td>Zimbabwe</td>\n",
       "      <td>ZWE</td>\n",
       "      <td>2020</td>\n",
       "      <td>1.832039e+09</td>\n",
       "      <td>21707094.03</td>\n",
       "      <td>8.517271</td>\n",
       "      <td>7.898</td>\n",
       "      <td>Sub-Saharan Africa</td>\n",
       "      <td>Lower middle income</td>\n",
       "    </tr>\n",
       "    <tr>\n",
       "      <th>11499</th>\n",
       "      <td>Zimbabwe</td>\n",
       "      <td>ZWE</td>\n",
       "      <td>2021</td>\n",
       "      <td>1.982000e+09</td>\n",
       "      <td>0.00</td>\n",
       "      <td>6.985948</td>\n",
       "      <td>8.067</td>\n",
       "      <td>Sub-Saharan Africa</td>\n",
       "      <td>Lower middle income</td>\n",
       "    </tr>\n",
       "    <tr>\n",
       "      <th>11500</th>\n",
       "      <td>Zimbabwe</td>\n",
       "      <td>ZWE</td>\n",
       "      <td>2022</td>\n",
       "      <td>2.047406e+09</td>\n",
       "      <td>0.00</td>\n",
       "      <td>9.901347</td>\n",
       "      <td>7.945</td>\n",
       "      <td>Sub-Saharan Africa</td>\n",
       "      <td>Lower middle income</td>\n",
       "    </tr>\n",
       "  </tbody>\n",
       "</table>\n",
       "<p>11501 rows × 9 columns</p>\n",
       "</div>"
      ],
      "text/plain": [
       "      country_name country_code  Year  remittance_received  remittance_paid  \\\n",
       "0            Aruba          ABW  1970         0.000000e+00             0.00   \n",
       "1            Aruba          ABW  1971         0.000000e+00             0.00   \n",
       "2            Aruba          ABW  1972         0.000000e+00             0.00   \n",
       "3            Aruba          ABW  1973         0.000000e+00             0.00   \n",
       "4            Aruba          ABW  1974         0.000000e+00             0.00   \n",
       "...            ...          ...   ...                  ...              ...   \n",
       "11496     Zimbabwe          ZWE  2018         1.427703e+09      29278892.45   \n",
       "11497     Zimbabwe          ZWE  2019         1.417012e+09      13480565.66   \n",
       "11498     Zimbabwe          ZWE  2020         1.832039e+09      21707094.03   \n",
       "11499     Zimbabwe          ZWE  2021         1.982000e+09             0.00   \n",
       "11500     Zimbabwe          ZWE  2022         2.047406e+09             0.00   \n",
       "\n",
       "            gdp  unemployment_rate                     Region  \\\n",
       "0      0.000000              0.000  Latin America & Caribbean   \n",
       "1      0.000000              0.000  Latin America & Caribbean   \n",
       "2      0.000000              0.000  Latin America & Caribbean   \n",
       "3      0.000000              0.000  Latin America & Caribbean   \n",
       "4      0.000000              0.000  Latin America & Caribbean   \n",
       "...         ...                ...                        ...   \n",
       "11496  4.179939              6.784         Sub-Saharan Africa   \n",
       "11497  6.490458              7.370         Sub-Saharan Africa   \n",
       "11498  8.517271              7.898         Sub-Saharan Africa   \n",
       "11499  6.985948              8.067         Sub-Saharan Africa   \n",
       "11500  9.901347              7.945         Sub-Saharan Africa   \n",
       "\n",
       "               IncomeGroup  \n",
       "0              High income  \n",
       "1              High income  \n",
       "2              High income  \n",
       "3              High income  \n",
       "4              High income  \n",
       "...                    ...  \n",
       "11496  Lower middle income  \n",
       "11497  Lower middle income  \n",
       "11498  Lower middle income  \n",
       "11499  Lower middle income  \n",
       "11500  Lower middle income  \n",
       "\n",
       "[11501 rows x 9 columns]"
      ]
     },
     "execution_count": 12,
     "metadata": {},
     "output_type": "execute_result"
    }
   ],
   "source": [
    "complete_data"
   ]
  },
  {
   "cell_type": "code",
   "execution_count": 14,
   "id": "745da253",
   "metadata": {},
   "outputs": [
    {
     "data": {
      "text/plain": [
       "country_name            object\n",
       "country_code            object\n",
       "Year                     int64\n",
       "remittance_received    float64\n",
       "remittance_paid        float64\n",
       "gdp                    float64\n",
       "unemployment_rate      float64\n",
       "Region                  object\n",
       "IncomeGroup             object\n",
       "dtype: object"
      ]
     },
     "execution_count": 14,
     "metadata": {},
     "output_type": "execute_result"
    }
   ],
   "source": [
    "# checking the datatype of the new datafram\n",
    "complete_data.dtypes"
   ]
  },
  {
   "cell_type": "code",
   "execution_count": 17,
   "id": "4d057be2",
   "metadata": {},
   "outputs": [],
   "source": [
    "# converting the Year column to datetime\n",
    "complete_data['Year'] = pd.to_datetime(complete_data['Year'], format=\"%Y\").dt.year"
   ]
  },
  {
   "cell_type": "code",
   "execution_count": 18,
   "id": "76250662",
   "metadata": {},
   "outputs": [],
   "source": [
    "#To save to csv\n",
    "complete_data.to_csv(r\"C:\\Users\\chine\\Downloads\\Cleaned Data\\ Remittance Merged 1970 - 2022.csv\", index = False) "
   ]
  },
  {
   "cell_type": "code",
   "execution_count": null,
   "id": "4c2713ca",
   "metadata": {},
   "outputs": [],
   "source": []
  }
 ],
 "metadata": {
  "kernelspec": {
   "display_name": "Python 3 (ipykernel)",
   "language": "python",
   "name": "python3"
  },
  "language_info": {
   "codemirror_mode": {
    "name": "ipython",
    "version": 3
   },
   "file_extension": ".py",
   "mimetype": "text/x-python",
   "name": "python",
   "nbconvert_exporter": "python",
   "pygments_lexer": "ipython3",
   "version": "3.9.13"
  }
 },
 "nbformat": 4,
 "nbformat_minor": 5
}
